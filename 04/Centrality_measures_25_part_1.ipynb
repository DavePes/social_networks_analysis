{
 "cells": [
  {
   "cell_type": "markdown",
   "metadata": {
    "cell_id": "57388ae3a4d74797af375f858f745dd0",
    "deepnote_cell_type": "markdown"
   },
   "source": [
    "---"
   ]
  },
  {
   "cell_type": "code",
   "execution_count": 3,
   "metadata": {
    "cell_id": "5f78838a68244711aa02b58f893acf62",
    "deepnote_cell_type": "code",
    "execution_context_id": "391dae1e-ccd6-4e12-8579-e4d0a9e577f8",
    "execution_millis": 1823,
    "execution_start": 1761829957007,
    "source_hash": "d70e30e6"
   },
   "outputs": [
    {
     "name": "stdout",
     "output_type": "stream",
     "text": [
      "Requirement already satisfied: networkx==3.5 in ./.venv/lib/python3.12/site-packages (3.5)\n"
     ]
    }
   ],
   "source": [
    "\n",
    "!pip install networkx==3.5"
   ]
  },
  {
   "cell_type": "code",
   "execution_count": 10,
   "metadata": {
    "cell_id": "15c99f66da6a493a8644e0b10d69a134",
    "deepnote_cell_type": "code",
    "execution_context_id": "391dae1e-ccd6-4e12-8579-e4d0a9e577f8",
    "execution_millis": 459,
    "execution_start": 1761829949584,
    "source_hash": "82d90c4d"
   },
   "outputs": [],
   "source": [
    "import networkx as nx\n",
    "import numpy as np\n",
    "import matplotlib.pyplot as plt\n",
    "\n",
    "from pprint import pprint\n",
    "import itertools"
   ]
  },
  {
   "cell_type": "markdown",
   "metadata": {
    "cell_id": "4d08b9a9c75a4930bc8bcc8ee711d6d8",
    "deepnote_cell_type": "markdown"
   },
   "source": [
    "# Centrality Measures\n",
    "\n",
    "They are used to identify important nodes in a network. They include:\n",
    "1. degree centrality,\n",
    "2. closeness centrality,\n",
    "3. betweenness centrality,\n",
    "4. eigenvector centrality (will be covered later, together with HITS and PageRank algorithm).\n",
    "\n",
    "We will manually compute the first three centrality measures for small graphs. Then, we will calculate the centrality measures using the `networkx` library. Finally, we will apply the measures to a real-world network."
   ]
  },
  {
   "cell_type": "markdown",
   "metadata": {
    "cell_id": "07d22f085673417780880230f82aa4b4",
    "deepnote_cell_type": "markdown"
   },
   "source": [
    "## 1. Degree Centrality\n",
    "\n",
    "Simply the degree of a node."
   ]
  },
  {
   "cell_type": "markdown",
   "metadata": {
    "cell_id": "a84cbffab78941769e08d5d02df1eddd",
    "deepnote_cell_type": "markdown"
   },
   "source": [
    "### A Small Example "
   ]
  },
  {
   "cell_type": "code",
   "execution_count": 8,
   "metadata": {
    "cell_id": "9d09a6bd4c4f41f189835869e017f854",
    "deepnote_cell_type": "code",
    "deepnote_to_be_reexecuted": false,
    "execution_millis": 757,
    "execution_start": 1698056300171,
    "source_hash": null,
    "tags": []
   },
   "outputs": [
    {
     "data": {
      "image/png": "[encoded data removed]",
      "text/plain": [
       "<Figure size 300x150 with 1 Axes>"
      ]
     },
     "metadata": {},
     "output_type": "display_data"
    }
   ],
   "source": [
    "def gener_and_plot_sample1():\n",
    "    G = nx.Graph()\n",
    "    G.add_edges_from([('A','B'), ('A','C'), ('C','D'), ('B','C'), ('D','E') ])\n",
    "    positions = {'A': np.array([ 0,0]), 'B': np.array([0,1]), 'C': np.array([ 1,1]), \n",
    "                 'D': np.array([1,0]), 'E': np.array([2,0])}\n",
    "    plt.figure(figsize=(3,1.5))\n",
    "    nx.draw(G, pos=positions, node_color='lightgreen')\n",
    "    _ = nx.draw_networkx_labels(G, positions)\n",
    "    return G\n",
    "\n",
    "G1 = gener_and_plot_sample1()"
   ]
  },
  {
   "cell_type": "markdown",
   "metadata": {
    "cell_id": "5a28e134d49f460e9bd0f8245d59a044",
    "deepnote_cell_type": "markdown"
   },
   "source": [
    "Compute the degree of all nodes **manually**. Fill your results in the cell below. **Do not enter just the number**; insert the expression to compute the desired result."
   ]
  },
  {
   "cell_type": "code",
   "execution_count": 12,
   "metadata": {
    "cell_id": "90de3f55616a47cf90aa1afd375fd718",
    "deepnote_cell_type": "code",
    "deletable": false,
    "nbgrader": {
     "cell_type": "code",
     "checksum": "09838b292915ce1163221d9313927699",
     "grade": false,
     "grade_id": "cell-58e3ac4a112d20bc",
     "locked": false,
     "schema_version": 3,
     "solution": true,
     "task": false
    }
   },
   "outputs": [
    {
     "name": "stdout",
     "output_type": "stream",
     "text": [
      "The degree of node A is 2\n",
      "The degree of node B is 2\n",
      "The degree of node C is 3\n",
      "The degree of node D is 2\n",
      "The degree of node E is 1\n"
     ]
    }
   ],
   "source": [
    "G1.nodes['A']['degree'] = 2\n",
    "G1.nodes['B']['degree'] = 2\n",
    "G1.nodes['C']['degree'] = 3\n",
    "G1.nodes['D']['degree'] = 2\n",
    "G1.nodes['E']['degree'] = 1\n",
    "for n in G1.nodes():\n",
    "    print(f\"The degree of node {n} is {G1.nodes[n]['degree']}\")"
   ]
  },
  {
   "cell_type": "markdown",
   "metadata": {
    "cell_id": "3814dbedf1544cc995c77b1e096c9e7f",
    "deepnote_cell_type": "markdown"
   },
   "source": [
    "Check the correctness of your answers using a suitable function from `networkx`."
   ]
  },
  {
   "cell_type": "code",
   "execution_count": null,
   "metadata": {
    "cell_id": "22f42cca524044ce8a0a22956b4744de",
    "deepnote_cell_type": "code",
    "deletable": false,
    "nbgrader": {
     "cell_type": "code",
     "checksum": "e1dee7f9592281ccc627ad927b1de9f6",
     "grade": false,
     "grade_id": "cell-81f89fc57b34cfaa",
     "locked": false,
     "schema_version": 3,
     "solution": true,
     "task": false
    }
   },
   "outputs": [],
   "source": [
    "# YOUR CODE HERE\n",
    "raise NotImplementedError()"
   ]
  },
  {
   "cell_type": "markdown",
   "metadata": {
    "cell_id": "d7f0f11be3ff4bd8bec93b191b68e651",
    "deepnote_cell_type": "markdown"
   },
   "source": [
    "Then, implement the following function that returns `k` nodes with the highest degree. "
   ]
  },
  {
   "cell_type": "code",
   "execution_count": 18,
   "metadata": {
    "cell_id": "0ffd078a0b9e48aaab92a96fb572bb73",
    "deepnote_cell_type": "code",
    "deletable": false,
    "nbgrader": {
     "cell_type": "code",
     "checksum": "adac1f2d9c884b153b6939e5e2b41718",
     "grade": false,
     "grade_id": "cell-9830f4678b49e117",
     "locked": false,
     "schema_version": 3,
     "solution": true,
     "task": false
    }
   },
   "outputs": [
    {
     "name": "stdout",
     "output_type": "stream",
     "text": [
      "[('C', 3), ('A', 2)]\n"
     ]
    }
   ],
   "source": [
    "def top_by_degree(net, k):\n",
    "    '''Return an ordered list of k pairs (node, degree) with the highest \n",
    "    degree centrality in the network net. If the network has less than k nodes, \n",
    "    the list should contain all nodes of the network.'''\n",
    "    data = [(n,net.nodes[n]['degree']) for n in net]\n",
    "    data = sorted(data, key=lambda x: x[1],reverse=True)\n",
    "    return data[:k]\n",
    "\n",
    "\n",
    "\n",
    "\n",
    "\n",
    "\n",
    "\n",
    "\n",
    "\n",
    "\n",
    "\n",
    "\n",
    "\n",
    "\n",
    "\n",
    "\n",
    "    data = [(n, net.nodes[n]['degree']) for n in net.nodes()]\n",
    "    data = sorted(data, key=lambda x: x[1], reverse=True)\n",
    "    return data[:k]\n",
    "\n",
    "pprint(top_by_degree(G1,2))"
   ]
  },
  {
   "cell_type": "markdown",
   "metadata": {
    "cell_id": "cb8a9bfa9b294fdba55939331dc486c8",
    "deepnote_cell_type": "markdown"
   },
   "source": [
    "## 2. Closeness Centrality"
   ]
  },
  {
   "cell_type": "markdown",
   "metadata": {
    "cell_id": "bbb5f30c54744582bd3caa674c66b403",
    "deepnote_cell_type": "markdown"
   },
   "source": [
    "What is closeness centrality? How can we compute it?"
   ]
  },
  {
   "cell_type": "code",
   "execution_count": 19,
   "metadata": {
    "cell_id": "15a6ec2ccd6a4bba8b9cd36381babe7b",
    "deepnote_cell_type": "code"
   },
   "outputs": [
    {
     "data": {
      "image/png": "[encoded data removed]",
      "text/plain": [
       "<Figure size 300x150 with 1 Axes>"
      ]
     },
     "metadata": {},
     "output_type": "display_data"
    }
   ],
   "source": [
    "G1 = gener_and_plot_sample1()     # just to repeat the drawing of G1"
   ]
  },
  {
   "cell_type": "markdown",
   "metadata": {
    "cell_id": "cffeebdeac0749ff9b9f5b81757ed677",
    "deepnote_cell_type": "markdown"
   },
   "source": [
    "Compute the closeness of all nodes **manually**. Fill your results in the cell below. **Do not enter just the number**; insert the expression to compute the desired result."
   ]
  },
  {
   "cell_type": "code",
   "execution_count": null,
   "metadata": {
    "cell_id": "3f9b34b802664ef3a822689d3bc6aa7b",
    "deepnote_cell_type": "code",
    "deletable": false,
    "nbgrader": {
     "cell_type": "code",
     "checksum": "3e654a08599f44d298ecd70108402bbf",
     "grade": false,
     "grade_id": "cell-9b66513deaca612e",
     "locked": false,
     "schema_version": 3,
     "solution": true,
     "task": false
    }
   },
   "outputs": [
    {
     "name": "stdout",
     "output_type": "stream",
     "text": [
      "G1.nodes['A']['closeness'] = 0.5714285714285714\n",
      "G1.nodes['B']['closeness'] = 0.5714285714285714\n",
      "G1.nodes['C']['closeness'] = 0.8\n",
      "G1.nodes['D']['closeness'] = 0.6666666666666666\n",
      "G1.nodes['E']['closeness'] = 0.4444444444444444\n",
      "JUJUJU\n",
      "G1.nodes['A']['closeness'] = 0.5714285714285714\n",
      "G1.nodes['B']['closeness'] = 0.5714285714285714\n",
      "G1.nodes['C']['closeness'] = 0.8\n",
      "G1.nodes['D']['closeness'] = 0.6666666666666666\n",
      "G1.nodes['E']['closeness'] = 0.4444444444444444\n"
     ]
    }
   ],
   "source": [
    "G1.nodes['A']['closeness'] = 1 + 1 +2 + 3\n",
    "G1.nodes['B']['closeness'] = 1 + 1 +2 + 3\n",
    "G1.nodes['C']['closeness'] = 1 + 1 + 1 + 2\n",
    "G1.nodes['D']['closeness'] = 1 + 1 +2  +2\n",
    "G1.nodes['E']['closeness'] = 1 + 2 + 3 + 3\n",
    "# YOUR CODE HERE\n",
    "for n in G1.nodes():\n",
    "    print(f\"G1.nodes['{n}']['closeness'] = {4/G1.nodes[n]['closeness']}\")\n"
   ]
  },
  {
   "cell_type": "markdown",
   "metadata": {
    "cell_id": "6c8c20336a234664a556ec977d54fcb8",
    "deepnote_cell_type": "markdown"
   },
   "source": [
    "Check the correctness of your answers using a suitable function from `networkx`."
   ]
  },
  {
   "cell_type": "code",
   "execution_count": null,
   "metadata": {
    "cell_id": "a321a028bf7e40ad9f9f73e90ccf7645",
    "deepnote_cell_type": "code",
    "deletable": false,
    "nbgrader": {
     "cell_type": "code",
     "checksum": "3545570f4cb0ba231cc7e6452dd69c0c",
     "grade": false,
     "grade_id": "cell-4005fd99da106cab",
     "locked": false,
     "schema_version": 3,
     "solution": true,
     "task": false
    }
   },
   "outputs": [],
   "source": [
    "# YOUR CODE HERE\n",
    "raise NotImplementedError()"
   ]
  },
  {
   "cell_type": "markdown",
   "metadata": {
    "cell_id": "1879e110cd4b404fb5c78c403100d617",
    "deepnote_cell_type": "markdown"
   },
   "source": [
    "Then, implement the following function that returns `k` nodes with the highest closeness. "
   ]
  },
  {
   "cell_type": "code",
   "execution_count": null,
   "metadata": {
    "cell_id": "4590626d39ac4ef89d9660b8fa9409c1",
    "deepnote_cell_type": "code",
    "deletable": false,
    "nbgrader": {
     "cell_type": "code",
     "checksum": "2e454481884bd8787a21f94ee807a0e5",
     "grade": false,
     "grade_id": "cell-82c4a15b5f9bce83",
     "locked": false,
     "schema_version": 3,
     "solution": true,
     "task": false
    }
   },
   "outputs": [],
   "source": [
    "def top_by_closeness(net, k):\n",
    "    '''Return an ordered list of k pairs (node, closeness) with the highest \n",
    "    closeness centrality in the network net. If the network has less than k nodes, \n",
    "    the list should contain all nodes of the network.'''\n",
    "    # YOUR CODE HERE\n",
    "    raise NotImplementedError()\n",
    "    \n",
    "pprint(top_by_closeness(G1,5))"
   ]
  },
  {
   "cell_type": "markdown",
   "metadata": {
    "cell_id": "bab974fbe6f74e3b8e4664c1166f9ed2",
    "deepnote_cell_type": "text-cell-h1",
    "formattedRanges": [],
    "is_collapsed": false,
    "tags": []
   },
   "source": [
    "# ## 3. Betweenness Centrality Measure"
   ]
  },
  {
   "cell_type": "markdown",
   "metadata": {
    "cell_id": "4ea07208b85c411cafd5b92c221b2ae9",
    "deepnote_cell_type": "markdown",
    "formattedRanges": [],
    "is_collapsed": false,
    "tags": []
   },
   "source": [
    "Let $G=(V,E)$ be a graph with $|V|=n$ nodes.\n",
    "\n",
    "1. **Betweenness centrality of a node $v$** is the sum of the fractions of all-pairs shortest paths that pass through $v$\n",
    "\n",
    "   $$c_B(v) =\\displaystyle \\sum_{s,t \\in V} \\frac{p_{s, t}(v)}{p_{s, t}},$$\n",
    "\n",
    "   where\n",
    "   * $p_{s, t}$ is the number of shortest $(s, t)$-paths; if $s = t$, $p_{s, t} = 1$, and\n",
    "   * $p_{s, t}(v)$ is the number of those paths passing through the node $v$ other than $s, t$; if $v \\in \\{s, t\\}$, $p_{s, t}(v) = 0$.\n",
    "     \n",
    "\n",
    "\n",
    "   **Normalized betweenness centrality of a node $v$** is the betweenness centrality of the node $v$ divided by $$\\displaystyle \\frac{(n-1)(n-2)}{2}$$ for undirected graphs, and by $$(n-1)(n-2)$$ for directed graphs.\n",
    "\n",
    "3. **Betweenness centrality of an edge $e$** is the sum of the fractions of all-pairs shortest paths that pass through $e$\n",
    "\n",
    "   $$c_B(e) =\\displaystyle \\sum_{s,t \\in V} \\frac{p_{s, t}(e)}{p_{s, t}},$$\n",
    "\n",
    "   where $V$ is the set of nodes, $p_{s, t})$ is the number of shortest $(s, t)$-paths, and $p_{s, t}(e)$ is the number of those paths passing through edge $e$.\n",
    "\n",
    "   **Normalized betweenness centrality of an edge $e$** is the betweenness centrality of the edge $e$ divided by $\\displaystyle \\frac{n(n-1)}{2}$ for graphs, and by ${n(n-1)}$ for directed graphs."
   ]
  },
  {
   "cell_type": "markdown",
   "metadata": {
    "cell_id": "0b11250efb8843e591f6b43163482622",
    "deepnote_cell_type": "markdown"
   },
   "source": [
    "## A Small Example \n",
    "\n",
    "### Example 1"
   ]
  },
  {
   "cell_type": "code",
   "execution_count": null,
   "metadata": {
    "cell_id": "ed5c8151c8584f90837a0cfc3722c329",
    "deepnote_cell_type": "code",
    "deepnote_to_be_reexecuted": false,
    "execution_millis": 757,
    "execution_start": 1698056300171,
    "source_hash": null,
    "tags": []
   },
   "outputs": [],
   "source": [
    "G1 = gener_and_plot_sample1()     # just to repeat the drawing of G1"
   ]
  },
  {
   "cell_type": "markdown",
   "metadata": {
    "cell_id": "aca8b6d2c764484ea457096836e88ae4",
    "deepnote_cell_type": "markdown",
    "deepnote_to_be_reexecuted": false,
    "execution_millis": 18,
    "execution_start": 1667738396111,
    "source_hash": "e650e9c3",
    "tags": []
   },
   "source": [
    "Compute **manually** betweenness and normalized betweenness for all nodes and edges of `G1`. Replace the ellipses (...) in the cell below with your computation. **Do not enter just the number**; insert the expression to compute the desired result."
   ]
  },
  {
   "cell_type": "code",
   "execution_count": null,
   "metadata": {
    "cell_id": "0b807f89a43f4e1299c441f0cec50f6b",
    "deepnote_cell_type": "code",
    "deepnote_to_be_reexecuted": false,
    "execution_millis": 111,
    "execution_start": 1698056305861,
    "source_hash": null,
    "tags": []
   },
   "outputs": [],
   "source": [
    "# betweenness\n",
    "G1.nodes['A']['betweenness'] = ...\n",
    "G1.nodes['B']['betweenness'] = ...\n",
    "G1.nodes['C']['betweenness'] = ...\n",
    "G1.nodes['D']['betweenness'] = ...\n",
    "G1.nodes['E']['betweenness'] = ...\n",
    "\n",
    "\n",
    "G1.edges['A','B']['betweenness'] = ...\n",
    "G1.edges['A','C']['betweenness'] = ...\n",
    "G1.edges['B','C']['betweenness'] = ...\n",
    "G1.edges['C','D']['betweenness'] = ...\n",
    "G1.edges['D','E']['betweenness'] = ...\n",
    "\n",
    "# normalized betweenness\n",
    "G1.nodes['A']['normalized_betweenness'] = ...\n",
    "G1.nodes['B']['normalized_betweenness'] = ...\n",
    "G1.nodes['C']['normalized_betweenness'] = ...\n",
    "G1.nodes['D']['normalized_betweenness'] = ...\n",
    "G1.nodes['E']['normalized_betweenness'] = ...\n",
    "\n",
    "\n",
    "G1.edges['A','B']['normalized_betweenness'] = ...\n",
    "G1.edges['A','C']['normalized_betweenness'] = ...\n",
    "G1.edges['B','C']['normalized_betweenness'] = ...\n",
    "G1.edges['C','D']['normalized_betweenness'] = ...\n",
    "G1.edges['D','E']['normalized_betweenness'] = ...\n",
    "### BEG1IN SOLUTION\n",
    "# betweenness\n",
    "G1.nodes['A']['betweenness'] = ...\n",
    "G1.nodes['B']['betweenness'] = ...\n",
    "G1.nodes['C']['betweenness'] = ...\n",
    "G1.nodes['D']['betweenness'] = ...\n",
    "G1.nodes['E']['betweenness'] = ...\n",
    "\n",
    "\n",
    "G1.edges['A','B']['betweenness'] = ...\n",
    "G1.edges['A','C']['betweenness'] = ...\n",
    "G1.edges['B','C']['betweenness'] = ...\n",
    "G1.edges['C','D']['betweenness'] = ...\n",
    "G1.edges['D','E']['betweenness'] = ...\n",
    "\n",
    "# normalized betweenness\n",
    "G1.nodes['A']['normalized_betweenness'] = ...\n",
    "G1.nodes['B']['normalized_betweenness'] = ...\n",
    "G1.nodes['C']['normalized_betweenness'] = ...\n",
    "G1.nodes['D']['normalized_betweenness'] = ...\n",
    "G1.nodes['E']['normalized_betweenness'] = ...\n",
    "\n",
    "\n",
    "G1.edges['A','B']['normalized_betweenness'] = ...\n",
    "G1.edges['A','C']['normalized_betweenness'] = ...\n",
    "G1.edges['B','C']['normalized_betweenness'] = ...\n",
    "G1.edges['C','D']['normalized_betweenness'] = ...\n",
    "G1.edges['D','E']['normalized_betweenness'] = ...\n",
    "\n",
    "for n in G1.nodes():\n",
    "    print(f\"G1.nodes['{n}']['betweenness'] = {G1.nodes[n]['betweenness']}\")   \n",
    "\n",
    "for n in G1.nodes():\n",
    "    print(f\"G1.nodes['{n}']['normalized_betweenness'] = {G1.nodes[n]['normalized_betweenness']}\")   \n",
    "\n",
    "\n",
    "for source, target in G1.edges():\n",
    "    print(f\"G1.edges['{source}', '{target}']['betweenness'] = {G1.edges[source, target]['betweenness']}\")\n",
    "\n",
    "for source, target in G1.edges():\n",
    "    print(f\"G1.edges['{source}', '{target}']['normalized_betweenness'] = {G1.edges[source, target]['normalized_betweenness']}\")\n"
   ]
  },
  {
   "cell_type": "code",
   "execution_count": null,
   "metadata": {
    "cell_id": "cfc1486608264f489d59ac62195d10f9",
    "deepnote_cell_type": "code",
    "deepnote_to_be_reexecuted": false,
    "execution_millis": 177,
    "execution_start": 1698056306793,
    "source_hash": null,
    "tags": []
   },
   "outputs": [],
   "source": [
    "import itertools\n",
    "\n",
    "for source, target in itertools.combinations(G1.nodes(), 2):\n",
    "    print(list(nx.all_shortest_paths(G1, source, target)))"
   ]
  },
  {
   "cell_type": "code",
   "execution_count": null,
   "metadata": {
    "cell_id": "258b14510ce7451c89b5ef15f0d7c9a1",
    "deepnote_cell_type": "code",
    "deepnote_to_be_reexecuted": false,
    "execution_millis": 51,
    "execution_start": 1698056308187,
    "source_hash": null,
    "tags": []
   },
   "outputs": [],
   "source": [
    "btwns_centrality = nx.betweenness_centrality(G1, normalized=False)\n",
    "\n",
    "for n in G1.nodes():\n",
    "    print(f\"Betweenness centrality of node {n}: manually {G1.nodes[n]['betweenness']}\"\n",
    "          f\" networkx {btwns_centrality[n]}\")"
   ]
  },
  {
   "cell_type": "code",
   "execution_count": null,
   "metadata": {
    "cell_id": "679c764cfb6947baa988b4193dfcc143",
    "deepnote_cell_type": "code",
    "deepnote_to_be_reexecuted": false,
    "execution_millis": 58,
    "execution_start": 1698056309739,
    "source_hash": null
   },
   "outputs": [],
   "source": [
    "norm_btwns_centrality = nx.betweenness_centrality(G1, normalized=True)\n",
    "\n",
    "for n in G1.nodes():\n",
    "    print(f\"Normalized betweenness centrality of node {n}: manually {G1.nodes[n]['normalized_betweenness']}\"\n",
    "          f\" networkx {norm_btwns_centrality[n]}\")"
   ]
  },
  {
   "cell_type": "code",
   "execution_count": null,
   "metadata": {
    "cell_id": "41e1e62b4b894fa8ad5911a1593760ec",
    "deepnote_cell_type": "code",
    "deepnote_to_be_reexecuted": false,
    "execution_millis": 53,
    "execution_start": 1698056311267,
    "source_hash": null,
    "tags": []
   },
   "outputs": [],
   "source": [
    "edge_btwns_centrality = nx.edge_betweenness_centrality(G1, normalized=False)\n",
    "\n",
    "for source, target in G1.edges():\n",
    "    print(f\"Betweenness centrality of edge {(source,target)}:\"\n",
    "          f\" manually {G1.edges[source,target]['betweenness']}\"\n",
    "          f\" networkx {edge_btwns_centrality[source,target]}\")"
   ]
  },
  {
   "cell_type": "code",
   "execution_count": null,
   "metadata": {
    "cell_id": "13e55673c97040a8a2fd740d840bf999",
    "deepnote_cell_type": "code",
    "deepnote_to_be_reexecuted": false,
    "execution_millis": 27,
    "execution_start": 1698056312441,
    "source_hash": null
   },
   "outputs": [],
   "source": [
    "norm_edge_btwns_centrality = nx.edge_betweenness_centrality(G1, normalized=True)\n",
    "\n",
    "for source, target in G1.edges():\n",
    "    print(f\"Normaized betweenness centrality of edge {(source,target)}:\"\n",
    "          f\" manually {G1.edges[source,target]['betweenness']}\"\n",
    "          f\" networkx {norm_edge_btwns_centrality[source,target]}\")"
   ]
  },
  {
   "cell_type": "code",
   "execution_count": null,
   "metadata": {
    "cell_id": "9573e5b23d564f35bd3fab1f3ea9b99f",
    "deepnote_cell_type": "code",
    "deletable": false,
    "nbgrader": {
     "cell_type": "code",
     "checksum": "aad535606bad2abadf20020963f4cafd",
     "grade": false,
     "grade_id": "cell-34c13d7c3314d716",
     "locked": false,
     "schema_version": 3,
     "solution": true,
     "task": false
    }
   },
   "outputs": [],
   "source": [
    "def top_by_node_betweenness(net, k, normalized=False):\n",
    "    '''Return an ordered list of k pairs (node, betweenness) with the highest (node)\n",
    "    betweenness centrality in the network net. If the network has less than k nodes, \n",
    "    the list should contain all nodes of the network.'''\n",
    "    # YOUR CODE HERE\n",
    "    raise NotImplementedError()\n",
    "    \n",
    "pprint(top_by_node_betweenness(G1, 5, normalized=True))"
   ]
  },
  {
   "cell_type": "code",
   "execution_count": null,
   "metadata": {
    "cell_id": "8cf0eab6ca114bdd8c61efd73900b3a5",
    "deepnote_cell_type": "code",
    "deletable": false,
    "nbgrader": {
     "cell_type": "code",
     "checksum": "89f010485b32da3fa33aed28a6514fd6",
     "grade": false,
     "grade_id": "cell-66713ea5468d146e",
     "locked": false,
     "schema_version": 3,
     "solution": true,
     "task": false
    }
   },
   "outputs": [],
   "source": [
    "def top_by_edge_betweenness(net, k, normalized=False):\n",
    "    '''Return an ordered list of k pairs (edge, betweenness) with the highest (edge)\n",
    "    betweenness centrality in the network net. If the network has less than k edges, \n",
    "    the list should contain all nodes of the network.'''\n",
    "    # YOUR CODE HERE\n",
    "    raise NotImplementedError()\n",
    "    \n",
    "pprint(top_by_edge_betweenness(G1, 5, normalized=True))"
   ]
  },
  {
   "cell_type": "markdown",
   "metadata": {
    "cell_id": "f54e957e5cdd4e4f919ef8bb0fdad500",
    "deepnote_cell_type": "text-cell-h3",
    "formattedRanges": [],
    "is_collapsed": false,
    "tags": []
   },
   "source": [
    "### Example 2"
   ]
  },
  {
   "cell_type": "code",
   "execution_count": null,
   "metadata": {
    "allow_embed": false,
    "cell_id": "3bace9979d6d4284ae03f575d7707fab",
    "deepnote_cell_type": "code",
    "deepnote_to_be_reexecuted": false,
    "execution_millis": 354,
    "execution_start": 1698056314635,
    "source_hash": null,
    "tags": []
   },
   "outputs": [],
   "source": [
    "G2 = nx.Graph()\n",
    "G2.add_edges_from([('A','B'), ('A','C'), ('C','D'), ('B','C'), ('D','E'), \n",
    "                  ('A','D'), ('D','F'), ('E','F') ])\n",
    "positions = {'A': np.array([ 0,0]), 'B': np.array([0,1]), 'C': np.array([ 1,1]), \n",
    "             'D': np.array([1,0]), 'E': np.array([2,0]), 'F': np.array([2,1])}\n",
    "plt.figure(figsize=(3,1.5))\n",
    "nx.draw(G2, pos=positions)\n",
    "_ = nx.draw_networkx_labels(G2, positions)"
   ]
  },
  {
   "cell_type": "markdown",
   "metadata": {
    "cell_id": "2a4f7e7820d742a69b7b7ba50aeba08a",
    "deepnote_cell_type": "markdown",
    "deepnote_to_be_reexecuted": false,
    "execution_millis": 18,
    "execution_start": 1667738396111,
    "source_hash": "e650e9c3",
    "tags": []
   },
   "source": [
    "Compute **manually** betweenness and normalized betweenness for all nodes and edges. Replace the ellipses (...) in the cell below with your results):"
   ]
  },
  {
   "cell_type": "code",
   "execution_count": null,
   "metadata": {
    "allow_embed": false,
    "cell_id": "011180d9dc434df296b92bf2c0362e14",
    "deepnote_cell_type": "code",
    "deepnote_to_be_reexecuted": false,
    "execution_millis": 79,
    "execution_start": 1698056316024,
    "source_hash": null,
    "tags": []
   },
   "outputs": [],
   "source": [
    "# betweenness\n",
    "G2.nodes['A']['betweenness'] = ...\n",
    "G2.nodes['B']['betweenness'] = ...\n",
    "G2.nodes['C']['betweenness'] = ...\n",
    "G2.nodes['D']['betweenness'] = ...\n",
    "G2.nodes['E']['betweenness'] = ...\n",
    "G2.nodes['F']['betweenness'] = ...\n",
    "\n",
    "G2.edges['A','B']['betweenness'] = ...\n",
    "G2.edges['A','C']['betweenness'] = ...\n",
    "G2.edges['A','D']['betweenness'] = ...\n",
    "G2.edges['B','C']['betweenness'] = ...\n",
    "G2.edges['C','D']['betweenness'] = ...\n",
    "G2.edges['D','E']['betweenness'] = ...\n",
    "G2.edges['D','F']['betweenness'] = ...\n",
    "G2.edges['E','F']['betweenness'] = ...\n",
    "\n",
    "# normalized betweenness\n",
    "G2.nodes['A']['normalized_betweenness'] = ...\n",
    "G2.nodes['B']['normalized_betweenness'] = ...\n",
    "G2.nodes['C']['normalized_betweenness'] = ...\n",
    "G2.nodes['D']['normalized_betweenness'] = ...\n",
    "G2.nodes['E']['normalized_betweenness'] = ...\n",
    "G2.nodes['F']['normalized_betweenness'] = ...\n",
    "\n",
    "G2.edges['A','B']['normalized_betweenness'] = ...\n",
    "G2.edges['A','C']['normalized_betweenness'] = ...\n",
    "G2.edges['A','D']['normalized_betweenness'] = ...\n",
    "G2.edges['B','C']['normalized_betweenness'] = ...\n",
    "G2.edges['C','D']['normalized_betweenness'] = ...\n",
    "G2.edges['D','E']['normalized_betweenness'] = ...\n",
    "G2.edges['D','F']['normalized_betweenness'] = ...\n",
    "G2.edges['E','F']['normalized_betweenness'] = ..."
   ]
  },
  {
   "cell_type": "code",
   "execution_count": null,
   "metadata": {
    "cell_id": "4d17b531d2054e7c858594de9d60ded7",
    "deepnote_cell_type": "code",
    "deepnote_to_be_reexecuted": false,
    "execution_millis": 218,
    "execution_start": 1698056317125,
    "source_hash": null
   },
   "outputs": [],
   "source": [
    "import itertools\n",
    "\n",
    "for source, target in itertools.combinations(G2.nodes(), 2):\n",
    "    print(list(nx.all_shortest_paths(G2, source, target)))"
   ]
  },
  {
   "cell_type": "code",
   "execution_count": null,
   "metadata": {
    "allow_embed": false,
    "cell_id": "ea6e8d8f32d849b69ebbcd07569cc34a",
    "deepnote_cell_type": "code",
    "deepnote_to_be_reexecuted": false,
    "execution_millis": 558,
    "execution_start": 1698056320036,
    "source_hash": null,
    "tags": []
   },
   "outputs": [],
   "source": [
    "btwns_centrality = nx.betweenness_centrality(G2, normalized=False)\n",
    "\n",
    "for n in G2.nodes():\n",
    "    print(f\"Betweenness centrality of node {n}: manually {G2.nodes[n]['betweenness']}\"\n",
    "          f\" networkx {btwns_centrality[n]}\")"
   ]
  },
  {
   "cell_type": "code",
   "execution_count": null,
   "metadata": {
    "cell_id": "0a44b21c5c6d43d9a554b9a58bf18596",
    "deepnote_cell_type": "code",
    "deepnote_to_be_reexecuted": false,
    "execution_millis": 289,
    "execution_start": 1698056322625,
    "source_hash": null
   },
   "outputs": [],
   "source": [
    "norm_btwns_centrality = nx.betweenness_centrality(G2, normalized=True)\n",
    "\n",
    "for n in G2.nodes():\n",
    "    print(f\"Normalized betweenness centrality of node {n}: manually {G2.nodes[n]['normalized_betweenness']}\"\n",
    "          f\" networkx {norm_btwns_centrality[n]}\")"
   ]
  },
  {
   "cell_type": "code",
   "execution_count": null,
   "metadata": {
    "allow_embed": false,
    "cell_id": "1f442d0a5e7944e0a30a0c5487c81744",
    "deepnote_cell_type": "code",
    "deepnote_to_be_reexecuted": false,
    "execution_millis": 69,
    "execution_start": 1698056323877,
    "source_hash": null,
    "tags": []
   },
   "outputs": [],
   "source": [
    "edge_btwns_centrality = nx.edge_betweenness_centrality(G2, normalized=False)\n",
    "\n",
    "for source, target in G2.edges():\n",
    "    print(f\"Betweenness centrality of edge {(source,target)}:\"\n",
    "          f\" manually {G2.edges[source,target]['betweenness']}\"\n",
    "          f\" networkx {edge_btwns_centrality[source,target]}\")"
   ]
  },
  {
   "cell_type": "code",
   "execution_count": null,
   "metadata": {
    "allow_embed": false,
    "cell_id": "deb9579994e44a4c8c2d237eee75f46d",
    "deepnote_cell_type": "code",
    "deepnote_to_be_reexecuted": false,
    "execution_millis": 29,
    "execution_start": 1698056324687,
    "source_hash": null
   },
   "outputs": [],
   "source": [
    "norm_edge_btwns_centrality = nx.edge_betweenness_centrality(G2, normalized=True)\n",
    "\n",
    "for source, target in G2.edges():\n",
    "    print(f\"Normaized betweenness centrality of edge {(source,target)}:\"\n",
    "          f\" manually {G2.edges[source,target]['betweenness']}\"\n",
    "          f\" networkx {norm_edge_btwns_centrality[source,target]}\")"
   ]
  },
  {
   "cell_type": "code",
   "execution_count": null,
   "metadata": {
    "cell_id": "9ca1f5fdd20c455fa541f1fd6584db8a",
    "deepnote_cell_type": "code"
   },
   "outputs": [],
   "source": [
    "pprint(top_by_node_betweenness(G2, 5, normalized=True))"
   ]
  },
  {
   "cell_type": "code",
   "execution_count": null,
   "metadata": {
    "cell_id": "7313c72bd3dc422c934ac2582f08f0fd",
    "deepnote_cell_type": "code"
   },
   "outputs": [],
   "source": [
    "pprint(top_by_edge_betweenness(G2, 5, normalized=True))"
   ]
  },
  {
   "cell_type": "markdown",
   "metadata": {
    "cell_id": "fb5ea4034484486097351571a5c38107",
    "deepnote_cell_type": "markdown",
    "formattedRanges": [],
    "is_collapsed": false,
    "tags": []
   },
   "source": [
    "## Real-World Example\n",
    "\n",
    "We will use data on the United Kingdom's suffragette activists. Collected by the authors of the following paper\n",
    "\n",
    "> Crossley, N., Edwards, G., Harries, E., & Stevenson, R. (2012).\n",
    "> Covert social movement networks and the secrecy-efficiency trade off: The case of the UK suffragettes\n",
    "> (1906–1914). Social Networks, 34(4), 634-644. [https://sites.google.com/site/ucinetsoftware/datasets/covert-networks/suffragettes](https://sites.google.com/site/ucinetsoftware/datasets/covert-networks/suffragettes)\n",
    "\n",
    "We will use the following code to load the data matrix 1216x398 person by arrest date and location (`50_all_2M.csv`) and project it into a bipartite network. Some persons have two lines in the data file. We will merge persons with the same name. "
   ]
  },
  {
   "cell_type": "code",
   "execution_count": null,
   "metadata": {
    "cell_id": "f6d3b598e5034c6ab896b2f3645e21f8",
    "deepnote_cell_type": "code",
    "deepnote_to_be_reexecuted": false,
    "execution_millis": 341,
    "execution_start": 1698056327581,
    "source_hash": null,
    "tags": []
   },
   "outputs": [],
   "source": [
    "from pathlib import Path\n",
    "from networkx import bipartite\n",
    "\n",
    "# Create an empty affiliation network and list of people\n",
    "B = nx.Graph()\n",
    "\n",
    "# peoples will be the first kind of nodes; we will collect them in a set\n",
    "people = set()\n",
    "\n",
    "# Load data file into network\n",
    "with open('50_ALL_2M.csv') as f:\n",
    "    # Parse header\n",
    "    events = next(f).strip().split(\",\")[1:]\n",
    "\n",
    "    # Parse rows\n",
    "    for row in f:\n",
    "        parts = row.strip().split(\",\")\n",
    "        person = parts[0]\n",
    "        people.add(person)\n",
    "        for j, value in enumerate(parts[1:]):\n",
    "            if value != \"0\":\n",
    "                B.add_edge(person, events[j], weight=int(value))\n",
    "\n",
    "# Project into a person-person co-affiliation network\n",
    "G = bipartite.projected_graph(B, people)"
   ]
  },
  {
   "cell_type": "code",
   "execution_count": null,
   "metadata": {
    "cell_id": "a37716017a04411c97a7f7d3bd0a7238",
    "deepnote_cell_type": "code",
    "deepnote_to_be_reexecuted": false,
    "execution_millis": 341,
    "execution_start": 1698056327581,
    "source_hash": null,
    "tags": []
   },
   "outputs": [],
   "source": [
    "import pandas as pd\n",
    "\n",
    "df = pd.read_csv('50_ALL_2M.csv', header=0, index_col=0)\n",
    "sums = df.sum()\n",
    "sums"
   ]
  },
  {
   "cell_type": "code",
   "execution_count": null,
   "metadata": {
    "cell_id": "a2eb92b19cbd41c9a7d68d2627c8d7db",
    "deepnote_cell_type": "code",
    "deepnote_to_be_reexecuted": false,
    "execution_millis": 341,
    "execution_start": 1698056327581,
    "source_hash": null,
    "tags": []
   },
   "outputs": [],
   "source": [
    "sums.sum()"
   ]
  },
  {
   "cell_type": "markdown",
   "metadata": {
    "cell_id": "cd147ee0b57e4c0dbfdbaad0f98942d8",
    "deepnote_cell_type": "text-cell-p",
    "formattedRanges": [],
    "is_collapsed": false,
    "tags": []
   },
   "source": [
    "Solve the following tasks:\n",
    "1. Compute the betweenness centralities for nodes.\n",
    "2. Sort nodes according to decreasing betweenness centrality.\n",
    "3. Print 10 nodes with the highest betweenness centrality together with the respective value of the betweenness centrality."
   ]
  },
  {
   "cell_type": "code",
   "execution_count": null,
   "metadata": {
    "cell_id": "e5fa7571f86d43d3acc06155a7eff548",
    "deepnote_cell_type": "code",
    "deepnote_to_be_reexecuted": false,
    "deletable": false,
    "execution_millis": 8657,
    "execution_start": 1698056330556,
    "nbgrader": {
     "cell_type": "code",
     "checksum": "f66601ba54ba39f5898e8af16fa1ba90",
     "grade": true,
     "grade_id": "cell-235cbf79a5801d3a",
     "locked": false,
     "points": 0,
     "schema_version": 3,
     "solution": true,
     "task": false
    },
    "output_cleared": true,
    "source_hash": null,
    "tags": []
   },
   "outputs": [],
   "source": [
    "# YOUR CODE HERE\n",
    "raise NotImplementedError()"
   ]
  },
  {
   "cell_type": "markdown",
   "metadata": {
    "cell_id": "65ed3c31ec1a4b68b3aed6fb5ef089a1",
    "deepnote_cell_type": "markdown",
    "formattedRanges": [],
    "is_collapsed": false,
    "tags": []
   },
   "source": [
    "Next we will search suffragettes in the list of suffragettes in Wikipedia page [List of suffragists and suffragettes](https://en.wikipedia.org/wiki/List_of_suffragists_and_suffragettes)."
   ]
  },
  {
   "cell_type": "code",
   "execution_count": null,
   "metadata": {
    "cell_id": "d43133430f954ecbb62bca3382cee3f8",
    "deepnote_cell_type": "code",
    "deepnote_to_be_reexecuted": false,
    "execution_millis": 204,
    "execution_start": 1698055920572,
    "source_hash": null,
    "tags": []
   },
   "outputs": [],
   "source": [
    "from mediawiki import MediaWiki\n",
    "import mediawiki\n",
    "wikipedia = MediaWiki()"
   ]
  },
  {
   "cell_type": "code",
   "execution_count": null,
   "metadata": {
    "cell_id": "288ae7960cfd4605af8d79c53ad27401",
    "deepnote_cell_type": "code",
    "deepnote_to_be_reexecuted": false,
    "execution_millis": 2284,
    "execution_start": 1698047969430,
    "source_hash": null,
    "tags": []
   },
   "outputs": [],
   "source": [
    "page = wikipedia.page('List of British suffragists and suffragettes')\n",
    "page.html.find('Maud Joachim')"
   ]
  },
  {
   "cell_type": "markdown",
   "metadata": {
    "cell_id": "5b8346f47e8848e6be94730532cda72f",
    "deepnote_cell_type": "markdown",
    "formattedRanges": [],
    "is_collapsed": false,
    "tags": []
   },
   "source": [
    "The first suffragette Maud Joachim is listed among the active suffraggettes. Create a plot where for $i$, the value is the number of suffraggettes listed in Wikipedia among the top $i$ sufraggettes according to the betweennes."
   ]
  },
  {
   "cell_type": "code",
   "execution_count": null,
   "metadata": {
    "cell_id": "73cf432c769f4fe7840b2f80aab5dd05",
    "deepnote_cell_type": "code",
    "deletable": false,
    "nbgrader": {
     "cell_type": "code",
     "checksum": "68a17f21160e2e1b84269b44de7c4905",
     "grade": false,
     "grade_id": "cell-733c74f48f62b0dd",
     "locked": false,
     "schema_version": 3,
     "solution": true,
     "task": false
    }
   },
   "outputs": [],
   "source": [
    "page = wikipedia.page('List of British suffragists and suffragettes')\n",
    "counter = []\n",
    "count = 0\n",
    "# YOUR CODE HERE\n",
    "raise NotImplementedError()\n",
    "plt.plot(counter)\n",
    "plt.grid()\n",
    "print(counter)"
   ]
  },
  {
   "cell_type": "markdown",
   "metadata": {
    "cell_id": "2d00993798fc452ab006fb9040918db9",
    "deepnote_cell_type": "markdown"
   },
   "source": [
    "# Facebook Network Analysis\n",
    "\n",
    "based on a [Networkx guide](https://networkx.org/nx-guides/content/exploratory_notebooks/facebook_notebook.html#betweenness-centrality).\n",
    "\n",
    "Our data consists of the facebook circles (friends lists) of ten people. The dataset can be found at this link http://snap.stanford.edu/data/ego-Facebook.html. The network is undirected and has no weights. Each node represents an anonymized facebook user that belongs to one of those ten friends lists.\n",
    "Each edge corresponds to the friendship of two facebook users that belong to this network. The ten original friends are the nodes $0, 107, 348, 414, 686, 698, 1684, 1912, 3437, 3980$, we will call them the **spotlight nodes**."
   ]
  },
  {
   "cell_type": "code",
   "execution_count": null,
   "metadata": {
    "cell_id": "dc25feae727b488e95b835a00537b423",
    "deepnote_cell_type": "code",
    "deepnote_to_be_reexecuted": false,
    "execution_millis": 3351,
    "execution_start": 1698058343460,
    "source_hash": null
   },
   "outputs": [],
   "source": [
    "# import packages \n",
    "import pandas as pd\n",
    "import numpy as np\n",
    "import networkx as nx\n",
    "import matplotlib.pyplot as plt\n",
    "from random import randint"
   ]
  },
  {
   "cell_type": "markdown",
   "metadata": {
    "cell_id": "18eb6a75870040ab973ede9e99ba9435",
    "deepnote_cell_type": "text-cell-p",
    "formattedRanges": []
   },
   "source": [
    "We load the edges from a gziped data file into a pandas dataframe. "
   ]
  },
  {
   "cell_type": "code",
   "execution_count": null,
   "metadata": {
    "cell_id": "95ab2deba0d041c6b195441d41414262",
    "deepnote_cell_type": "code",
    "deepnote_to_be_reexecuted": false,
    "execution_millis": 351,
    "execution_start": 1698058478815,
    "source_hash": null
   },
   "outputs": [],
   "source": [
    "facebook = pd.read_csv(\n",
    "    \"facebook_combined.txt.gz\",\n",
    "    compression=\"gzip\",\n",
    "    sep=\" \",\n",
    "    names=[\"start_node\", \"end_node\"],\n",
    ")\n",
    "facebook"
   ]
  },
  {
   "cell_type": "markdown",
   "metadata": {
    "cell_id": "9126901aa74e4aaaba4defded41a2107",
    "deepnote_cell_type": "markdown",
    "deepnote_to_be_reexecuted": false,
    "execution_millis": 152,
    "execution_start": 1698058494113,
    "source_hash": "3614fb8"
   },
   "source": [
    "We create the network from the `facebook` dataframe of the edges:"
   ]
  },
  {
   "cell_type": "code",
   "execution_count": null,
   "metadata": {
    "cell_id": "02b0dcd32b9b44b5b34589fc6ab2db3b",
    "deepnote_cell_type": "code",
    "deepnote_to_be_reexecuted": false,
    "execution_millis": 84,
    "execution_start": 1698058506675,
    "source_hash": null
   },
   "outputs": [],
   "source": [
    "G = nx.from_pandas_edgelist(facebook, \"start_node\", \"end_node\")"
   ]
  },
  {
   "cell_type": "markdown",
   "metadata": {
    "cell_id": "3558d17f9cb6409ca4d92e7d1ae1ba54",
    "deepnote_cell_type": "markdown"
   },
   "source": [
    "Let us visualize the network."
   ]
  },
  {
   "cell_type": "code",
   "execution_count": null,
   "metadata": {
    "cell_id": "c0fddeae9f3f484fb6b6dda3d50da49b",
    "deepnote_cell_type": "code",
    "deepnote_to_be_reexecuted": false,
    "execution_millis": 9472,
    "execution_start": 1698058618007,
    "source_hash": null
   },
   "outputs": [],
   "source": [
    "fig, ax = plt.subplots(figsize=(15, 9))\n",
    "ax.axis(\"off\")\n",
    "plot_options = {\"node_size\": 10, \"with_labels\": False, \"width\": 0.15}\n",
    "nx.draw_networkx(G, pos=nx.random_layout(G), ax=ax, **plot_options)"
   ]
  },
  {
   "cell_type": "markdown",
   "metadata": {
    "cell_id": "70576a1c6702417a88a1f670588f1361",
    "deepnote_cell_type": "markdown"
   },
   "source": [
    "Such visualization is not helpful. Randomly positioned nodes are not useful. We can do better with `spring_layout`. However, we must limit the number of iterations to avoid long running time.\n"
   ]
  },
  {
   "cell_type": "code",
   "execution_count": null,
   "metadata": {
    "cell_id": "c28544b715ef4d0ea23ac8b0a72d18d0",
    "deepnote_cell_type": "code",
    "deepnote_to_be_reexecuted": false,
    "execution_millis": 16876,
    "execution_start": 1698061003988,
    "source_hash": null
   },
   "outputs": [],
   "source": [
    "pos = nx.spring_layout(G, iterations=15, seed=1721)"
   ]
  },
  {
   "cell_type": "code",
   "execution_count": null,
   "metadata": {
    "cell_id": "7affe96091fe4b5683dea63ffcab431d",
    "deepnote_cell_type": "code",
    "deepnote_to_be_reexecuted": false,
    "execution_millis": 8,
    "execution_start": 1698061415153,
    "source_hash": null
   },
   "outputs": [],
   "source": [
    "spotlight_nodes = [0,107,348,414,686,698,1684,1912,3437,3980]"
   ]
  },
  {
   "cell_type": "code",
   "execution_count": null,
   "metadata": {
    "cell_id": "3858cd4a35f04abf99dc9f21507deea8",
    "deepnote_cell_type": "code",
    "deepnote_to_be_reexecuted": false,
    "execution_millis": 1609,
    "execution_start": 1698061023014,
    "source_hash": null
   },
   "outputs": [],
   "source": [
    "fig, ax = plt.subplots(figsize=(15, 9))\n",
    "ax.axis(\"off\")\n",
    "node_color = ['C1' if v in spotlight_nodes else 'C0' for v in G.nodes()]\n",
    "nx.draw_networkx(G, pos=pos, ax=ax, node_size=10, with_labels=False, width=0.15, node_color=node_color)\n"
   ]
  },
  {
   "cell_type": "code",
   "execution_count": null,
   "metadata": {
    "cell_id": "271ac3fb2d824b0f82cdf3fdb25147c8",
    "deepnote_cell_type": "code",
    "deepnote_to_be_reexecuted": false,
    "execution_millis": 17,
    "execution_start": 1698061218445,
    "source_hash": null
   },
   "outputs": [],
   "source": [
    "print('Number of nodes:', G.number_of_nodes())\n",
    "print('Number of edges:', G.number_of_edges())\n",
    "print('Average degree:', 2*G.number_of_edges() / G.number_of_nodes())"
   ]
  },
  {
   "cell_type": "markdown",
   "metadata": {
    "cell_id": "bb62154e737c42ada9130f5fbc416080",
    "deepnote_cell_type": "markdown"
   },
   "source": [
    "Compute `degree_centrality` as  "
   ]
  },
  {
   "cell_type": "code",
   "execution_count": null,
   "metadata": {
    "cell_id": "306a0476e5004c0dac897468830ce4d2",
    "deepnote_cell_type": "code",
    "deepnote_to_be_reexecuted": false,
    "execution_millis": 17,
    "execution_start": 1698061545597,
    "source_hash": null
   },
   "outputs": [],
   "source": [
    "degree_centrality = nx.degree(G)  # save results in a variable to use again\n",
    "sorted_degree_centrality = sorted(degree_centrality, key=lambda item: item[1], reverse=True)\n",
    "pprint(sorted_degree_centrality[:10])\n",
    "degree_centrality_normalized = nx.centrality.degree_centrality(G)  # save results in a variable to use again\n",
    "(sorted(degree_centrality_normalized.items(), key=lambda item: item[1], reverse=True))[:10]"
   ]
  },
  {
   "cell_type": "markdown",
   "metadata": {
    "cell_id": "3584873c5b864b34851a4fe48fb74036",
    "deepnote_cell_type": "markdown"
   },
   "source": [
    "Are the spotlight nodes the nodes with the highest degree centrality in the network?"
   ]
  },
  {
   "cell_type": "code",
   "execution_count": null,
   "metadata": {
    "cell_id": "12797eda87a84f2ebe382be1974be7bc",
    "deepnote_cell_type": "code",
    "deletable": false,
    "nbgrader": {
     "cell_type": "code",
     "checksum": "5bbd7649c6a14b95dd801f3dbe7c278b",
     "grade": true,
     "grade_id": "cell-cfb4cbd0ac44ad17",
     "locked": false,
     "points": 0,
     "schema_version": 3,
     "solution": true,
     "task": false
    }
   },
   "outputs": [],
   "source": [
    "# YOUR CODE HERE\n",
    "raise NotImplementedError()\n"
   ]
  },
  {
   "cell_type": "code",
   "execution_count": null,
   "metadata": {
    "cell_id": "1fd51067c449413b97c7673068a644c7",
    "deepnote_cell_type": "code",
    "deepnote_to_be_reexecuted": false,
    "execution_millis": 181,
    "execution_start": 1698061654725,
    "source_hash": null
   },
   "outputs": [],
   "source": [
    "plt.figure(figsize=(12, 5))\n",
    "plt.hist(dict(degree_centrality).values(), bins=25)\n",
    "plt.xticks(ticks=[0, 0.025, 0.05, 0.1, 0.15, 0.2])  # set the x axis ticks\n",
    "plt.title(\"Degree Centrality Histogram \")\n",
    "# plt.title(\"Degree Centrality Histogram \", fontdict={\"size\": 35}, loc=\"center\")\n",
    "plt.xlabel(\"Degree Centrality\")\n",
    "plt.ylabel(\"Counts\")"
   ]
  },
  {
   "cell_type": "markdown",
   "metadata": {
    "cell_id": "798c64a5fdc847628f10381ad3eb05a1",
    "deepnote_cell_type": "markdown"
   },
   "source": [
    "Based on the degree centrality, we can vizualize the degrees."
   ]
  },
  {
   "cell_type": "code",
   "execution_count": null,
   "metadata": {
    "cell_id": "db6801b4c86b432395ba3b66915d16fc",
    "deepnote_cell_type": "code",
    "deepnote_to_be_reexecuted": false,
    "execution_millis": 1630,
    "execution_start": 1698061923736,
    "source_hash": null
   },
   "outputs": [],
   "source": [
    "# set up nodes size for a nice graph representation\n",
    "node_size = [v * 2 for v in dict(degree_centrality).values()] \n",
    "plt.figure(figsize=(12, 5))\n",
    "nx.draw_networkx(G, pos=pos, node_size=node_size, node_color=node_color, with_labels=False, width=0.15)\n",
    "_ = plt.axis(\"off\")"
   ]
  },
  {
   "cell_type": "markdown",
   "metadata": {
    "cell_id": "02c5c133243b4aa1a0ab53ed1677ab99",
    "deepnote_cell_type": "markdown"
   },
   "source": [
    "Similarly, we can calculate betweenness centrality."
   ]
  },
  {
   "cell_type": "code",
   "execution_count": null,
   "metadata": {
    "cell_id": "b9574b3501354f6cb03a5282325a9e43",
    "deepnote_cell_type": "code",
    "deepnote_to_be_reexecuted": false,
    "execution_millis": 62784,
    "execution_start": 1698061998752,
    "source_hash": null
   },
   "outputs": [],
   "source": [
    "betweenness_centrality = nx.centrality.betweenness_centrality(G)\n",
    "(sorted(betweenness_centrality.items(), key=lambda item: item[1], reverse=True))[:10]"
   ]
  },
  {
   "cell_type": "code",
   "execution_count": null,
   "metadata": {
    "cell_id": "d856a7dc53f24f9a89e27b978ef192a7",
    "deepnote_cell_type": "code",
    "deepnote_to_be_reexecuted": false,
    "execution_millis": 158,
    "execution_start": 1698062113445,
    "source_hash": null
   },
   "outputs": [],
   "source": [
    "plt.figure(figsize=(12, 5))\n",
    "plt.hist(betweenness_centrality.values(), bins=100)\n",
    "plt.xticks(ticks=[0, 0.02, 0.1, 0.2, 0.3, 0.4, 0.5])  # set the x axis ticks\n",
    "plt.title(\"Betweenness Centrality Histogram \")\n",
    "plt.xlabel(\"Betweenness Centrality\")\n",
    "plt.ylabel(\"Counts\")"
   ]
  },
  {
   "cell_type": "code",
   "execution_count": null,
   "metadata": {
    "cell_id": "a4d0c5652720486e922a0b952caa12f9",
    "deepnote_cell_type": "code"
   },
   "outputs": [],
   "source": [
    "node_size = [v * 1000 for v in betweenness_centrality.values()]  # set up nodes size for a nice graph representation\n",
    "plt.figure(figsize=(12, 5))\n",
    "nx.draw_networkx(G, pos=pos, node_size=node_size, with_labels=False, width=0.15)\n",
    "_ = plt.axis(\"off\")"
   ]
  },
  {
   "cell_type": "code",
   "execution_count": null,
   "metadata": {
    "cell_id": "19f5ce1cf766464a8446aff012daa034",
    "deepnote_cell_type": "code"
   },
   "outputs": [],
   "source": []
  }
 ],
 "metadata": {
  "deepnote_notebook_id": "51252d4a986a4db5a056f2e35161cac1",
  "kernelspec": {
   "display_name": ".venv",
   "language": "python",
   "name": "python3"
  },
  "language_info": {
   "codemirror_mode": {
    "name": "ipython",
    "version": 3
   },
   "file_extension": ".py",
   "mimetype": "text/x-python",
   "name": "python",
   "nbconvert_exporter": "python",
   "pygments_lexer": "ipython3",
   "version": "3.12.3"
  }
 },
 "nbformat": "4",
 "nbformat_minor": "0"
}
