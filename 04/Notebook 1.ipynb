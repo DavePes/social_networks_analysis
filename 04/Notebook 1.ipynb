{"cells":[{"cellId":"ea6c1538d59746e5b06490a352a9a5f1","cell_type":"code","metadata":{"cell_id":"ea6c1538d59746e5b06490a352a9a5f1","deepnote_cell_type":"code"},"source":"","block_group":"ea6c1538d59746e5b06490a352a9a5f1","execution_count":null,"outputs":[],"outputs_reference":null,"content_dependencies":null}],
        "metadata": {"deepnote_notebook_id":"b711fae8ce4c41648ec8076893b10f16"},
        "nbformat": "4",
        "nbformat_minor": "0",
        "version": "0"
      }