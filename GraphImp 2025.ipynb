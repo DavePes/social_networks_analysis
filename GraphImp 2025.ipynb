{
 "cells": [
  {
   "cell_type": "markdown",
   "metadata": {
    "cell_id": "f350b9652c894714aae924844d118cc1",
    "deepnote_cell_type": "markdown"
   },
   "source": [
    "# Directed Graphs\n",
    " \n",
    "A small exercise in Python. Implement a class for directed graphs using an adjacency matrix. The adjacency matrix will be stored in a dictionary with node IDs as keys. Node's neighbors will be stored in a dictionary, where the keys are IDs of the neighbors of the node and the values are data (dictionary) associated with the edge. Additionally, each node can also have some associated data."
   ]
  },
  {
   "cell_type": "code",
   "execution_count": null,
   "metadata": {
    "cell_id": "5b7455e50dd44d40b14c3fd383181498",
    "deepnote_cell_type": "code",
    "deepnote_to_be_reexecuted": false,
    "deletable": false,
    "execution_context_id": "f0d73a21-296e-45f5-b0ed-a4e17124c8a5",
    "execution_millis": 0,
    "execution_start": 1759409140959,
    "nbgrader": {
     "cell_type": "code",
     "checksum": "a70ee919db45b744ee635aa1b5a27dac",
     "grade": true,
     "grade_id": "cell-9079c59fecb74ef9",
     "locked": false,
     "points": 1,
     "schema_version": 3,
     "solution": true,
     "task": false
    },
    "source_hash": "a8864767"
   },
   "outputs": [],
   "source": [
    "class GraphAdjMat:\n",
    "    \"\"\" Graph implemented as adjacency list stored as a dictionary\"\"\"\n",
    "    \n",
    "    def __init__(self):\n",
    "        self.adj_matrix = {}            # a dictionary of adjacency dictionaries\n",
    "        self.vertices = {}              # a dictionary of vertices\n",
    "    \n",
    "    def add_vertex(self, id, data=None):\n",
    "        \"\"\"Add one vertex with key id into the graph\n",
    "        if the node with id is already in the graph, then do nothing, \n",
    "        otherwise, add it to the self_adj_matrix with an empty list (dictionary) \n",
    "        of neighbors\n",
    "        If data is nonempty, store it in self.vertices dictionary\n",
    "        \"\"\"\n",
    "\n",
    "        if (id not in self.adj_matrix):\n",
    "            self.adj_matrix[id] = {}\n",
    "            if data is not None:\n",
    "                self.vertices[id] = data\n",
    "            \n",
    "        \n",
    "    def add_edge(self, u_id, v_id, data:dict=None):\n",
    "        \"\"\"Add one edge from the vertex with u_id to the vertex v_id\n",
    "        The edge will be stored in the adjacency dictionary together with the data.\n",
    "        The data should be a dictionary.\n",
    "        \"\"\"\n",
    "        if u_id in self.adj_matrix:\n",
    "            self.adj_matrix[u_id][v_id] = data\n",
    "        else:\n",
    "            self.adj_matrix[v_id][u_id] = data\n",
    "\n",
    "\n",
    "    def print_vertices(self):\n",
    "        \"\"\"Print list of nodes together with their data in the format\n",
    "        (node1_id, node1_data), (node2_id, node2_data), ...\n",
    "        \"\"\"\n",
    "        l = []\n",
    "        for id, data in self.vertices.items():\n",
    "            l.append(f\"({id}, {data})\")\n",
    "\n",
    "        print(', '.join(l))\n",
    "    \n",
    "    def print_graph(self):\n",
    "        \"\"\"Print adjacency matrix together with node names.\n",
    "        each line should be of the form\n",
    "        \n",
    "            id(data) : (n1: d1), (n2: d2) (n3: d3) ...\n",
    "        \n",
    "        where \n",
    "            id is the id of a node,            \n",
    "            data is the data of the node,\n",
    "            n1 is the id of the first neighbor of the node id, \n",
    "            d1 is the data associated with edge (id,w1), \n",
    "            n2 is the id of the second neighbor of the node id, etc.\n",
    "        Be aware that id, n1, n2, ... are any hashable values!\n",
    "        \"\"\"\n",
    "        for id, data in self.vertices.items():\n",
    "            print(f\"{id}({data}) : \", end='')"
   ]
  },
  {
   "cell_type": "code",
   "execution_count": null,
   "metadata": {
    "cell_id": "8e1b87743436497fb55b2e678f2fc619",
    "deepnote_cell_type": "code",
    "deepnote_to_be_reexecuted": false,
    "execution_context_id": "f0d73a21-296e-45f5-b0ed-a4e17124c8a5",
    "execution_millis": 420,
    "execution_start": 1759409141009,
    "source_hash": "f3bf52a3"
   },
   "outputs": [
    {
     "ename": "NotImplementedError",
     "evalue": "",
     "output_type": "error",
     "traceback": [
      "\u001b[0;31m---------------------------------------------------------------------------\u001b[0m",
      "\u001b[0;31mNotImplementedError\u001b[0m                       Traceback (most recent call last)",
      "Cell \u001b[0;32mIn[2], line 2\u001b[0m\n\u001b[1;32m      1\u001b[0m g \u001b[38;5;241m=\u001b[39m GraphAdjMat()\n\u001b[0;32m----> 2\u001b[0m \u001b[43mg\u001b[49m\u001b[38;5;241;43m.\u001b[39;49m\u001b[43madd_vertex\u001b[49m\u001b[43m(\u001b[49m\u001b[38;5;124;43m'\u001b[39;49m\u001b[38;5;124;43mA\u001b[39;49m\u001b[38;5;124;43m'\u001b[39;49m\u001b[43m,\u001b[49m\u001b[43m \u001b[49m\u001b[38;5;124;43m'\u001b[39;49m\u001b[38;5;124;43mnode A data\u001b[39;49m\u001b[38;5;124;43m'\u001b[39;49m\u001b[43m)\u001b[49m\n\u001b[1;32m      3\u001b[0m g\u001b[38;5;241m.\u001b[39madd_vertex(\u001b[38;5;124m'\u001b[39m\u001b[38;5;124mB\u001b[39m\u001b[38;5;124m'\u001b[39m, \u001b[38;5;124m'\u001b[39m\u001b[38;5;124mnode B data\u001b[39m\u001b[38;5;124m'\u001b[39m)\n\u001b[1;32m      4\u001b[0m g\u001b[38;5;241m.\u001b[39madd_edge(\u001b[38;5;124m'\u001b[39m\u001b[38;5;124mA\u001b[39m\u001b[38;5;124m'\u001b[39m, \u001b[38;5;124m'\u001b[39m\u001b[38;5;124mB\u001b[39m\u001b[38;5;124m'\u001b[39m)\n",
      "Cell \u001b[0;32mIn[1], line 16\u001b[0m, in \u001b[0;36mGraphAdjMat.add_vertex\u001b[0;34m(self, id, data)\u001b[0m\n\u001b[1;32m      9\u001b[0m \u001b[38;5;250m\u001b[39m\u001b[38;5;124;03m\"\"\"Add one vertex with key id into the graph\u001b[39;00m\n\u001b[1;32m     10\u001b[0m \u001b[38;5;124;03mif the node with id is already in the graph, then do nothing, \u001b[39;00m\n\u001b[1;32m     11\u001b[0m \u001b[38;5;124;03motherwise, add it to the self_adj_matrix with an empty list (dictionary) \u001b[39;00m\n\u001b[1;32m     12\u001b[0m \u001b[38;5;124;03mof neighbors\u001b[39;00m\n\u001b[1;32m     13\u001b[0m \u001b[38;5;124;03mIf data is nonempty, store it in self.vertices dictionary\u001b[39;00m\n\u001b[1;32m     14\u001b[0m \u001b[38;5;124;03m\"\"\"\u001b[39;00m\n\u001b[1;32m     15\u001b[0m \u001b[38;5;66;03m# YOUR CODE HERE\u001b[39;00m\n\u001b[0;32m---> 16\u001b[0m \u001b[38;5;28;01mraise\u001b[39;00m \u001b[38;5;167;01mNotImplementedError\u001b[39;00m()\n",
      "\u001b[0;31mNotImplementedError\u001b[0m: "
     ]
    }
   ],
   "source": [
    "g = GraphAdjMat()\n",
    "g.add_vertex('A', 'node A data')\n",
    "g.add_vertex('B', 'node B data')\n",
    "g.add_edge('A', 'B')\n",
    "print(g.adj_matrix)"
   ]
  },
  {
   "cell_type": "markdown",
   "metadata": {
    "cell_id": "19d6ffefc5c7419f9c258de8ce5e0c0e",
    "deepnote_cell_type": "markdown"
   },
   "source": [
    "Let us enter a sample graph\n",
    "\n",
    "![image.png](image.png)"
   ]
  },
  {
   "cell_type": "code",
   "execution_count": null,
   "metadata": {
    "cell_id": "bfa59de937814883a85823a17047ab30",
    "deepnote_cell_type": "code",
    "deepnote_to_be_reexecuted": true,
    "execution_millis": 20,
    "execution_start": 1696252969191,
    "source_hash": null
   },
   "outputs": [],
   "source": [
    "e_txt = [\"ABred\",\"BCred\",\"BDgreen\",\"CEred\",\"CDblue\",\"EDred\",\"EAblue\",\"BEgreen\"]\n",
    "G = GraphAdjMat()\n",
    "print(G.vertices)\n",
    "    \n",
    "for e in e_txt:\n",
    "    a = e[0]\n",
    "    b = e[1]\n",
    "    data = e[2:]\n",
    "    # G.add_vertex(a)    \n",
    "    # G.add_vertex(b)\n",
    "    G.add_edge(a, b, data)\n",
    "    \n",
    "print(G.adj_matrix)"
   ]
  },
  {
   "cell_type": "code",
   "execution_count": null,
   "metadata": {
    "cell_id": "d05e8a0c3dc8403eae151343d357d76f",
    "deepnote_cell_type": "code",
    "deepnote_to_be_reexecuted": true
   },
   "outputs": [],
   "source": [
    "G.print_vertices()"
   ]
  },
  {
   "cell_type": "code",
   "execution_count": null,
   "metadata": {
    "cell_id": "e3e27477d4004c588604262dab15731a",
    "deepnote_cell_type": "code",
    "deepnote_to_be_reexecuted": true,
    "execution_millis": 22,
    "execution_start": 1696252972194,
    "source_hash": null
   },
   "outputs": [],
   "source": [
    "G.print_graph()"
   ]
  },
  {
   "cell_type": "code",
   "execution_count": null,
   "metadata": {
    "cell_id": "071a70f801064713926a523e2523a28d",
    "deepnote_cell_type": "code",
    "deepnote_to_be_reexecuted": true
   },
   "outputs": [],
   "source": [
    "v_txt = ['A1', 'B2','C1','D2','E0']\n",
    "for v in v_txt:\n",
    "    G.add_vertex(v[0], int(v[1]))\n",
    "print(G.vertices)\n",
    "\n",
    "G.print_vertices()\n",
    "G.print_graph()"
   ]
  },
  {
   "cell_type": "markdown",
   "metadata": {
    "cell_id": "7bcc20750b0340178fb7cd5783025f0a",
    "deepnote_cell_type": "markdown"
   },
   "source": [
    "The following statement assigns list of directed edges to the list variable `data`. Each item of the list contains:\n",
    " 1. source node\n",
    " 2. destination node\n",
    " 3. data associated to the edge"
   ]
  },
  {
   "cell_type": "code",
   "execution_count": null,
   "metadata": {
    "cell_id": "8a29604737f146b6b642fdf90885813e",
    "deepnote_cell_type": "code",
    "deepnote_to_be_reexecuted": true,
    "execution_millis": 17,
    "execution_start": 1696251488573,
    "source_hash": null
   },
   "outputs": [],
   "source": [
    "data = [\n",
    "(0, 1, {'internal': True, 'weight': 8}),\n",
    "(0, 2, {'internal': True, 'weight': 6}),\n",
    "(0, 3, {'internal': True, 'weight': 6}),\n",
    "(0, 4, {'internal': True, 'weight': 3}),\n",
    "(0, 5, {'internal': True, 'weight': 3}),\n",
    "(0, 6, {'internal': True, 'weight': 3}),\n",
    "(0, 7, {'internal': True, 'weight': 4}),\n",
    "(0, 8, {'internal': False, 'weight': 2}),\n",
    "(0, 10, {'internal': True, 'weight': 3}),\n",
    "(0, 11, {'internal': True, 'weight': 1}),\n",
    "(0, 12, {'internal': True, 'weight': 2}),\n",
    "(0, 13, {'internal': True, 'weight': 4}),\n",
    "(0, 17, {'internal': True, 'weight': 2}),\n",
    "(0, 19, {'internal': True, 'weight': 2}),\n",
    "(0, 21, {'internal': True, 'weight': 2}),\n",
    "(0, 31, {'internal': False, 'weight': 1}),\n",
    "(1, 2, {'internal': True, 'weight': 5}),\n",
    "(1, 3, {'internal': True, 'weight': 5}),\n",
    "(1, 7, {'internal': True, 'weight': 4}),\n",
    "(1, 13, {'internal': True, 'weight': 4}),\n",
    "(1, 17, {'internal': True, 'weight': 2}),\n",
    "(1, 19, {'internal': True, 'weight': 2}),\n",
    "(1, 21, {'internal': True, 'weight': 2}),\n",
    "(1, 30, {'internal': False, 'weight': 1}),\n",
    "(2, 3, {'internal': True, 'weight': 5}),\n",
    "(2, 7, {'internal': True, 'weight': 4}),\n",
    "(2, 8, {'internal': False, 'weight': 3}),\n",
    "(2, 9, {'internal': False, 'weight': 1}),\n",
    "(2, 13, {'internal': True, 'weight': 4}),\n",
    "(2, 27, {'internal': False, 'weight': 1}),\n",
    "(2, 28, {'internal': False, 'weight': 1}),\n",
    "(2, 32, {'internal': False, 'weight': 2}),\n",
    "(3, 7, {'internal': True, 'weight': 4}),\n",
    "(3, 12, {'internal': True, 'weight': 2}),\n",
    "(3, 13, {'internal': True, 'weight': 4}),\n",
    "(4, 6, {'internal': True, 'weight': 2}),\n",
    "(4, 10, {'internal': True, 'weight': 2}),\n",
    "(5, 6, {'internal': True, 'weight': 3}),\n",
    "(5, 10, {'internal': True, 'weight': 2}),\n",
    "(5, 16, {'internal': True, 'weight': 2}),\n",
    "(6, 16, {'internal': True, 'weight': 2}),\n",
    "(8, 30, {'internal': True, 'weight': 3}),\n",
    "(8, 32, {'internal': True, 'weight': 4}),\n",
    "(8, 33, {'internal': True, 'weight': 3}),\n",
    "(9, 33, {'internal': True, 'weight': 1}),\n",
    "(13, 33, {'internal': False, 'weight': 1}),\n",
    "(14, 32, {'internal': True, 'weight': 2}),\n",
    "(14, 33, {'internal': True, 'weight': 2}),\n",
    "(15, 32, {'internal': True, 'weight': 2}),\n",
    "(15, 33, {'internal': True, 'weight': 2}),\n",
    "(18, 32, {'internal': True, 'weight': 2}),\n",
    "(18, 33, {'internal': True, 'weight': 2}),\n",
    "(19, 33, {'internal': False, 'weight': 1}),\n",
    "(20, 32, {'internal': True, 'weight': 2}),\n",
    "(20, 33, {'internal': True, 'weight': 2}),\n",
    "(22, 32, {'internal': True, 'weight': 2}),\n",
    "(22, 33, {'internal': True, 'weight': 2}),\n",
    "(23, 25, {'internal': True, 'weight': 1}),\n",
    "(23, 27, {'internal': True, 'weight': 2}),\n",
    "(23, 29, {'internal': True, 'weight': 3}),\n",
    "(23, 32, {'internal': True, 'weight': 3}),\n",
    "(23, 33, {'internal': True, 'weight': 4}),\n",
    "(24, 25, {'internal': True, 'weight': 2}),\n",
    "(24, 27, {'internal': True, 'weight': 1}),\n",
    "(24, 31, {'internal': True, 'weight': 2}),\n",
    "(25, 31, {'internal': True, 'weight': 2}),\n",
    "(26, 29, {'internal': True, 'weight': 2}),\n",
    "(26, 33, {'internal': True, 'weight': 2}),\n",
    "(27, 33, {'internal': True, 'weight': 2}),\n",
    "(28, 31, {'internal': True, 'weight': 2}),\n",
    "(28, 33, {'internal': True, 'weight': 2}),\n",
    "(29, 32, {'internal': True, 'weight': 3}),\n",
    "(29, 33, {'internal': True, 'weight': 4}),\n",
    "(30, 32, {'internal': True, 'weight': 3}),\n",
    "(30, 33, {'internal': True, 'weight': 3}),\n",
    "(31, 32, {'internal': True, 'weight': 2}),\n",
    "(31, 33, {'internal': True, 'weight': 3}),\n",
    "(32, 33, {'internal': True, 'weight': 11})\n",
    "]"
   ]
  },
  {
   "cell_type": "markdown",
   "metadata": {
    "cell_id": "04876e110e7a4c408c79ae8d52df8dcf",
    "deepnote_cell_type": "markdown"
   },
   "source": [
    "Create a graph `big_g` from the edge list `data`."
   ]
  },
  {
   "cell_type": "code",
   "execution_count": null,
   "metadata": {
    "cell_id": "3fb860f97e204256a1447f4be533844d",
    "deepnote_cell_type": "code",
    "deepnote_to_be_reexecuted": true,
    "deletable": false,
    "nbgrader": {
     "cell_type": "code",
     "checksum": "78e0063c851ef60039784d9a00081c3e",
     "grade": false,
     "grade_id": "cell-14dc9b25388108b2",
     "locked": false,
     "schema_version": 3,
     "solution": true,
     "task": false
    }
   },
   "outputs": [],
   "source": [
    "# YOUR CODE HERE\n",
    "raise NotImplementedError()"
   ]
  },
  {
   "cell_type": "markdown",
   "metadata": {
    "cell_id": "af9d4ae463714710bde01dfb5c85dac2",
    "deepnote_cell_type": "markdown"
   },
   "source": [
    "Below, implement functions for locating the nodes with\n",
    " 1. maximal degree,\n",
    " 1. maximal in-degree, and\n",
    " 1. maximal out-degree."
   ]
  },
  {
   "cell_type": "code",
   "execution_count": null,
   "metadata": {
    "cell_id": "482fb3a0d4b24de589f2e4c2b144f716",
    "deepnote_cell_type": "code",
    "deepnote_to_be_reexecuted": true,
    "deletable": false,
    "execution_millis": 13,
    "execution_start": 1696253328955,
    "nbgrader": {
     "cell_type": "code",
     "checksum": "82295cd571a75514cfad2045ff02a8a2",
     "grade": false,
     "grade_id": "cell-6a0f1c32b6b86a8c",
     "locked": false,
     "schema_version": 3,
     "solution": true,
     "task": false
    },
    "source_hash": null
   },
   "outputs": [],
   "source": [
    "def max_degree(g):\n",
    "    \"\"\"For an input graph g, return tuple (id, max_degree),\n",
    "    where id is the id of a node with maximal degree and \n",
    "    max_degree is the maximal degree among nodes of graph g;\n",
    "    if there is more than one node with the maximal degree, \n",
    "    return any of them\n",
    "    \"\"\"\n",
    "    # YOUR CODE HERE\n",
    "    raise NotImplementedError()\n",
    "\n",
    "def max_in_degree(g):\n",
    "    \"\"\"for an input graph g, return tuple (id,max_in_degree),\n",
    "    where id is the id of a nove with maximal degree and \n",
    "    max_in_degree is the maximal in-degree among nodes of grath g;\n",
    "    if there are more than one nodes with maximal in-degree, \n",
    "    return any of them\n",
    "    \"\"\"\n",
    "    # YOUR CODE HERE\n",
    "    raise NotImplementedError()\n",
    "\n",
    "def max_out_degree(g):\n",
    "    \"\"\"for an input graph g, return tuple (id,max_out_degree),\n",
    "    where id is the id of a nove with maximal degree and \n",
    "    max_in_degree is the maximal in-degree among nodes of grath g;\n",
    "    if there are more than one nodes with maximal in-degree, \n",
    "    return any of them\n",
    "    \"\"\"\n",
    "    # YOUR CODE HERE\n",
    "    raise NotImplementedError()"
   ]
  },
  {
   "cell_type": "code",
   "execution_count": null,
   "metadata": {
    "cell_id": "dadfe0d81d8640cfbf688497ae542ddf",
    "deepnote_cell_type": "code",
    "deepnote_to_be_reexecuted": true
   },
   "outputs": [],
   "source": [
    "mx_degree_in_node, mx_degree_in = max_in_degree(G)\n",
    "mx_degree_node, mx_degree = max_degree(G)\n",
    "mx_degree_out_node, mx_degree_out = max_out_degree(G)\n",
    "\n",
    "print(f\"max degree id: {mx_degree_node}, max degree: {mx_degree}\")\n",
    "print(f\"max in-degree id: {mx_degree_in_node}, max in-degree: {mx_degree_in}\")\n",
    "print(f\"max out-degree id: {mx_degree_out_node}, max out-degree: {mx_degree_out}\")"
   ]
  },
  {
   "cell_type": "code",
   "execution_count": null,
   "metadata": {
    "cell_id": "af371e1b62b64dbaa572165284139775",
    "deepnote_cell_type": "code",
    "deepnote_to_be_reexecuted": true,
    "execution_millis": 152,
    "execution_start": 1696247387099,
    "source_hash": null
   },
   "outputs": [],
   "source": [
    "mx_degree_node, mx_degree = max_degree(big_g)\n",
    "mx_degree_in_node, mx_degree_in = max_in_degree(big_g)\n",
    "mx_degree_out_node, mx_degree_out = max_out_degree(big_g)\n",
    "\n",
    "print(f\"max degree id: {mx_degree_node}, max degree: {mx_degree}\")\n",
    "print(f\"max in-degree id: {mx_degree_in_node}, max in-degree: {mx_degree_in}\")\n",
    "print(f\"max out-degree id: {mx_degree_out_node}, max out-degree: {mx_degree_out}\")"
   ]
  },
  {
   "cell_type": "code",
   "execution_count": null,
   "metadata": {
    "cell_id": "208e862169d2476d80b54c7fb9519944",
    "deepnote_cell_type": "code",
    "deepnote_to_be_reexecuted": true,
    "source_hash": null
   },
   "outputs": [],
   "source": [
    "_, mx_degree = max_degree(big_g)\n",
    "assert(mx_degree == 17)"
   ]
  },
  {
   "cell_type": "code",
   "execution_count": null,
   "metadata": {
    "cell_id": "e63f01a25c754fa6b68c99c1efc15311",
    "deepnote_cell_type": "code",
    "deepnote_to_be_reexecuted": true
   },
   "outputs": [],
   "source": []
  }
 ],
 "metadata": {
  "deepnote_notebook_id": "ea295385f09f4381960289d97d024190",
  "deepnote_persisted_session": {
   "createdAt": "2023-10-02T13:45:09.247Z"
  },
  "language_info": {
   "name": "python"
  }
 },
 "nbformat": "4",
 "nbformat_minor": "0"
}
